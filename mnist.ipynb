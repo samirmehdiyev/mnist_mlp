{
  "cells": [
    {
      "cell_type": "code",
      "execution_count": null,
      "metadata": {
        "id": "zVKMm9moKE_I"
      },
      "outputs": [],
      "source": [
        "import numpy as np\n",
        "import pandas as pd\n",
        "import matplotlib.pyplot as plt\n",
        "import seaborn as sns\n",
        "\n",
        "import tensorflow as tf\n",
        "from tensorflow import keras\n",
        "from tensorflow.keras import layers\n",
        "from keras.utils import np_utils\n"
      ]
    },
    {
      "cell_type": "code",
      "execution_count": null,
      "metadata": {
        "id": "-NJppeXVY05y"
      },
      "outputs": [],
      "source": [
        "(rowx_train, rowy_train), (rowx_test, rowy_test) = tf.keras.datasets.mnist.load_data()"
      ]
    },
    {
      "cell_type": "code",
      "execution_count": null,
      "metadata": {
        "colab": {
          "base_uri": "https://localhost:8080/"
        },
        "id": "7pK0ZffOZ3YR",
        "outputId": "7e0a0890-a97e-4289-9896-55b888bf22b6"
      },
      "outputs": [],
      "source": [
        "rowx_train.shape, rowy_train.shape, rowx_test.shape, rowy_test.shape"
      ]
    },
    {
      "cell_type": "code",
      "execution_count": null,
      "metadata": {
        "colab": {
          "base_uri": "https://localhost:8080/",
          "height": 1000
        },
        "id": "J2uCxceCaVF5",
        "outputId": "7026b08b-9367-4477-f329-8920af0dce2e"
      },
      "outputs": [],
      "source": [
        "#visualisation\n",
        "for i in range(15,25):\n",
        "  plt.imshow(rowx_train[i], cmap=\"Greys\")\n",
        "  plt.show()"
      ]
    },
    {
      "cell_type": "code",
      "execution_count": null,
      "metadata": {
        "id": "5TONiWCabQpD"
      },
      "outputs": [],
      "source": [
        "#input data preparation\n",
        "#normalization\n",
        "x_train = rowx_train/255\n",
        "x_test = rowx_test/255"
      ]
    },
    {
      "cell_type": "code",
      "execution_count": null,
      "metadata": {
        "colab": {
          "base_uri": "https://localhost:8080/"
        },
        "id": "rnQz7-oScB3w",
        "outputId": "6b72b8a3-8c91-4f96-f494-0cf197ec7a70"
      },
      "outputs": [],
      "source": [
        "#reshape\n",
        "x_train = x_train.reshape(x_train.shape[0], x_train.shape[1]*x_train.shape[2])\n",
        "x_test = x_test.reshape(x_test.shape[0], x_test.shape[1]*x_test.shape[2])\n",
        "x_train.shape"
      ]
    },
    {
      "cell_type": "code",
      "execution_count": null,
      "metadata": {
        "colab": {
          "base_uri": "https://localhost:8080/"
        },
        "id": "G-b9cpgGiGDC",
        "outputId": "2675a16e-84ba-46c8-b912-f157922c8064"
      },
      "outputs": [],
      "source": [
        "#label/output data preparation\n",
        "y_train = np_utils.to_categorical(rowy_train, 10)\n",
        "y_test = np_utils.to_categorical(rowy_test, 10)\n",
        "y_train.shape"
      ]
    },
    {
      "cell_type": "code",
      "execution_count": null,
      "metadata": {
        "colab": {
          "base_uri": "https://localhost:8080/"
        },
        "id": "0V7C-lSbc4pK",
        "outputId": "e877b173-c3a1-4d95-b96b-3708b3e856cc"
      },
      "outputs": [],
      "source": [
        "#model training\n",
        "\n",
        "batch_size = 32\n",
        "epochs = 100\n",
        "dropout = 0.24\n",
        "\n",
        "model = keras.Sequential(name = 'mnist_train')\n",
        "model.add(layers.Input(shape = (x_train.shape[1])))\n",
        "model.add(layers.Dense(256, activation='relu'))\n",
        "model.add(layers.Dropout(dropout))\n",
        "model.add(layers.Dense(128, activation='relu'))\n",
        "model.add(layers.Dropout(dropout))\n",
        "model.add(layers.Dense(64, activation='relu'))\n",
        "model.add(layers.Dropout(dropout))\n",
        "model.add(layers.Dense(y_train.shape[1], activation='softmax'))\n",
        "\n",
        "model.summary()\n"
      ]
    },
    {
      "cell_type": "code",
      "execution_count": null,
      "metadata": {
        "colab": {
          "base_uri": "https://localhost:8080/"
        },
        "id": "Jjsb2lAOxKms",
        "outputId": "900599e1-2720-4cbe-9e85-33126cad6f0b"
      },
      "outputs": [],
      "source": [
        "model.compile(loss='categorical_crossentropy', \n",
        "              optimizer='adam',\n",
        "              metrics=['accuracy'])\n",
        "history = model.fit(x_train, y_train, epochs=epochs, batch_size=batch_size)"
      ]
    },
    {
      "cell_type": "code",
      "execution_count": null,
      "metadata": {
        "colab": {
          "base_uri": "https://localhost:8080/",
          "height": 235
        },
        "id": "4RBNFkNzxU3M",
        "outputId": "6fe6c0fb-58ac-4e13-e62b-33fba4f63a45"
      },
      "outputs": [],
      "source": [
        "#model evaluation\n",
        "loss, accuracy = model.evaluate(x_test, y_test, batch_size=32)\n",
        "prediction = (model.predict(x_test)*100).astype('int')\n",
        "print(history.history.keys())\n",
        "plt.plot(history.history['accuracy'])\n",
        "plt.plot(history.history['loss'])\n"
      ]
    }
  ],
  "metadata": {
    "accelerator": "GPU",
    "colab": {
      "provenance": []
    },
    "kernelspec": {
      "display_name": "Python 3",
      "name": "python3"
    },
    "language_info": {
      "name": "python"
    }
  },
  "nbformat": 4,
  "nbformat_minor": 0
}
